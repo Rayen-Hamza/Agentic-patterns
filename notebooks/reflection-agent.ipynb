{
 "cells": [
  {
   "cell_type": "code",
   "execution_count": null,
   "id": "ac0f0656",
   "metadata": {},
   "outputs": [],
   "source": [
    "from groq import Groq\n",
    "from dotenv import load_dotenv\n",
    "import os\n",
    "from IPython.display import display_markdown\n",
    "\n",
    "\n",
    "\n",
    "load_dotenv()"
   ]
  },
  {
   "cell_type": "code",
   "execution_count": null,
   "id": "04a1644d",
   "metadata": {},
   "outputs": [],
   "source": [
    "from groq import Groq\n",
    "client = Groq()"
   ]
  },
  {
   "cell_type": "code",
   "execution_count": null,
   "id": "2b4a626c",
   "metadata": {},
   "outputs": [],
   "source": [
    "generation_chat_history=[]\n",
    "reflection_chat_history=[]"
   ]
  },
  {
   "cell_type": "code",
   "execution_count": null,
   "id": "91b49e3b",
   "metadata": {},
   "outputs": [],
   "source": [
    "generation_chat_history.append(\n",
    "    {    \"role\": \"system\",\n",
    "        \"content\": \"You are a Python programmer tasked with generating high quality Python code.\"\n",
    "        \"Your task is to Generate the best content possible for the user's request. If the user provides critique,\" \n",
    "        \"respond with a revised version of your previous attempt.\"\n",
    "     }\n",
    ")\n",
    "\n",
    "generation_chat_history.append(\n",
    "    {\n",
    "        \"role\": \"user\",\n",
    "        \"content\": \"generate a Python implementation of a merge sort algorithm.\"\n",
    "    }\n",
    ")"
   ]
  },
  {
   "cell_type": "code",
   "execution_count": null,
   "id": "159236cc",
   "metadata": {},
   "outputs": [],
   "source": [
    "merege_sort_response = client.chat.completions.create(\n",
    "    model=\"llama-3.3-70b-versatile\",\n",
    "    messages=generation_chat_history,\n",
    ").choices[0].message.content\n",
    "\n",
    "generation_chat_history.append(\n",
    "    {\n",
    "        \"role\": \"assistant\",\n",
    "        \"content\": merege_sort_response\n",
    "    }\n",
    ")"
   ]
  },
  {
   "cell_type": "code",
   "execution_count": null,
   "id": "ddeb1228",
   "metadata": {},
   "outputs": [],
   "source": [
    "display_markdown(merege_sort_response, raw=True)"
   ]
  },
  {
   "cell_type": "code",
   "execution_count": null,
   "id": "d41b9b34",
   "metadata": {},
   "outputs": [],
   "source": [
    "reflection_chat_history.append(\n",
    "    {\n",
    "\"role\": \"system\",\n",
    "\"content\":\"You're a professional Python programmer , You're tasked with providing feedback , critique and reccomendation for the user's code\"\n",
    "    }\n",
    ")\n",
    "\n",
    "reflection_chat_history.append(\n",
    "    {\n",
    "\"role\": \"user\",\n",
    "\"content\":merege_sort_response\n",
    "    }\n",
    ")"
   ]
  },
  {
   "cell_type": "code",
   "execution_count": null,
   "id": "d16f7ba4",
   "metadata": {},
   "outputs": [],
   "source": [
    "\n",
    "\n",
    "critique_response = client.chat.completions.create(\n",
    "    model=\"llama-3.3-70b-versatile\",\n",
    "    messages=reflection_chat_history,\n",
    ").choices[0].message.content    \n",
    "    \n",
    "display_markdown(critique_response, raw=True)\n",
    "\n"
   ]
  },
  {
   "cell_type": "code",
   "execution_count": null,
   "id": "7266cc86",
   "metadata": {},
   "outputs": [],
   "source": [
    "generation_chat_history.append(\n",
    "    {\"role\": \"user\",\n",
    "        \"content\": critique_response}\n",
    "\n",
    ")\n",
    "\n",
    "mergesort_code = client.chat.completions.create(\n",
    "    model=\"llama-3.3-70b-versatile\",\n",
    "    messages=generation_chat_history,\n",
    ").choices[0].message.content\n",
    "\n",
    "generation_chat_history.append(\n",
    "    {\n",
    "        \"role\": \"assistant\",\n",
    "        \"content\": mergesort_code\n",
    "    }\n",
    ")\n",
    "\n",
    "display_markdown(mergesort_code, raw=True)\n"
   ]
  }
 ],
 "metadata": {
  "kernelspec": {
   "display_name": ".venv (3.10.7)",
   "language": "python",
   "name": "python3"
  },
  "language_info": {
   "codemirror_mode": {
    "name": "ipython",
    "version": 3
   },
   "file_extension": ".py",
   "mimetype": "text/x-python",
   "name": "python",
   "nbconvert_exporter": "python",
   "pygments_lexer": "ipython3",
   "version": "3.13.5"
  }
 },
 "nbformat": 4,
 "nbformat_minor": 5
}
